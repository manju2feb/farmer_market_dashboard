# Import necessary libraries
import pandas as pd
import matplotlib.pyplot as plt

# Step 1: Create the sample dataset
data = {
    'Month': ['March', 'April', 'May', 'June', 'July', 'August', 'September', 'October', 'November', 'December'],
    'Avg Vendors': [30, 35, 40, 45, 45, 40, 35, 30, 25, 20],
    'Est Attendance': [1200, 1500, 1800, 2100, 2300, 2000, 1700, 1500, 1200, 1000],
    'Special Events': [2, 3, 4, 5, 4, 3, 2, 2, 1, 1],
    'Instagram Followers': [10000, 10300, 10700, 11200, 11600, 11900, 12100, 12300, 12500, 12600]
}

# Create a DataFrame
df = pd.DataFrame(data)

# Optional: Save the dataset to a CSV file for future use
df.to_csv('piedmont_market_sample_dataset.csv', index=False)

# Step 2: Visualize the dashboard components

# 2.1 Line Chart - Estimated Attendance per Month
plt.figure(figsize=(8, 5))
plt.plot(df['Month'], df['Est Attendance'], marker='o', color='blue')
plt.title('Estimated Attendance per Month')
plt.xlabel('Month')
plt.ylabel('Attendance')
plt.grid(True)
plt.xticks(rotation=45)
plt.tight_layout()
plt.show()

# 2.2 Bar Chart - Average Number of Vendors
plt.figure(figsize=(8, 5))
plt.bar(df['Month'], df['Avg Vendors'], color='green')
plt.title('Average Number of Vendors per Month')
plt.xlabel('Month')
plt.ylabel('Vendors')
plt.xticks(rotation=45)
plt.tight_layout()
plt.show()

# 2.3 Line Chart - Instagram Followers Growth
plt.figure(figsize=(8, 5))
plt.plot(df['Month'], df['Instagram Followers'], marker='s', linestyle='--', color='purple')
plt.title('Instagram Followers Growth Over Time')
plt.xlabel('Month')
plt.ylabel('Followers')
plt.grid(True)
plt.xticks(rotation=45)
plt.tight_layout()
plt.show()

# 2.4 Bar Chart - Special Events per Month
plt.figure(figsize=(8, 5))
plt.bar(df['Month'], df['Special Events'], color='orange')
plt.title('Special Events per Month')
plt.xlabel('Month')
plt.ylabel('Number of Events')
plt.xticks(rotation=45)
plt.tight_layout()
plt.show()
